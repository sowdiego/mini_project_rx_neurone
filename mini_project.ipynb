{
 "cells": [
  {
   "cell_type": "code",
   "execution_count": null,
   "metadata": {},
   "outputs": [],
   "source": [
    "## Préparation des données\n",
    "\n",
    "import numpy as np \n",
    "import matplotlib.pyplot as plt \n",
    "import pandas as pd ##Tables\n",
    "\n",
    "\n",
    "### importation du dataset\n",
    "dataset=pd.read_csv('insurance.csv')\n"
   ]
  },
  {
   "cell_type": "code",
   "execution_count": null,
   "metadata": {},
   "outputs": [],
   "source": [
    "\n",
    "dataset.head(5)"
   ]
  },
  {
   "cell_type": "code",
   "execution_count": null,
   "metadata": {},
   "outputs": [],
   "source": [
    "## Prétraitement des données\n",
    "##Transformation  des variables qualitatives en variables numériques\n",
    "\n",
    "from sklearn.preprocessing import LabelEncoder, OneHotEncoder, StandardScaler\n",
    "\n",
    "encoder = OneHotEncoder(sparse=False)\n",
    "scaled_features = StandardScaler().fit_transform(dataset[['age', 'bmi', 'children']])\n",
    "encoded_features = encoder.fit_transform(dataset[['sex', 'smoker', 'region']])"
   ]
  },
  {
   "cell_type": "code",
   "execution_count": null,
   "metadata": {},
   "outputs": [],
   "source": [
    "# Fusionner les features prétraitées\n",
    "features = np.concatenate([scaled_features, encoded_features], axis=1)\n",
    "labels = dataset['charges'].values"
   ]
  },
  {
   "cell_type": "code",
   "execution_count": null,
   "metadata": {},
   "outputs": [],
   "source": [
    "# Diviser les données\n",
    "from sklearn.model_selection import train_test_split\n",
    "X_train, X_test, y_train, y_test = train_test_split(features, labels, test_size=0.2, random_state=42)"
   ]
  },
  {
   "cell_type": "code",
   "execution_count": null,
   "metadata": {},
   "outputs": [],
   "source": [
    "# Construire le modèle\n",
    "from keras.models import Sequential ##initialiser le réseau de neurone\n",
    "from keras.layers import Dense ##Créer les couches\n",
    "from keras.layers import Dropout ##Eviter le surappretnissage \n",
    "\n",
    "# Création du modèle\n",
    "model = Sequential([\n",
    "    Dense(units=6, activation='relu', kernel_initializer=\"uniform\", input_dim=12),\n",
    "    Dense(units=6, activation='relu', kernel_initializer=\"uniform\"),\n",
    "    Dense(units=1, activation='sigmoid', kernel_initializer=\"uniform\") \n",
    "])\n",
    "\n"
   ]
  },
  {
   "cell_type": "code",
   "execution_count": null,
   "metadata": {},
   "outputs": [],
   "source": [
    "# Compilation du modèle\n",
    "model.compile(optimizer='adam', \n",
    "              loss='binary_crossentropy', \n",
    "              metrics=['accuracy'])\n",
    "\n",
    "# Entraîner le modèle\n",
    "#model.fit(X_train, y_train, epochs=10, batch_size=32, validation_split=0.2)\n",
    "model.fit(X_train, y_train, batch_size=10, epochs=50)\n",
    "\n",
    "y_pred_train=model.predict(X_train)\n",
    "##Prédiction avec nos données Test\n",
    "y_pred=model.predict(X_test)\n",
    "y_pred=(y_pred>0.4)\n"
   ]
  },
  {
   "cell_type": "code",
   "execution_count": null,
   "metadata": {},
   "outputs": [],
   "source": [
    "# Évaluation du modèle\n",
    "loss, accuracy = model.evaluate(X_test, y_test)\n",
    "print(\"Loss:\", loss)\n",
    "print(\"Accuracy:\", accuracy)"
   ]
  },
  {
   "cell_type": "code",
   "execution_count": null,
   "metadata": {},
   "outputs": [],
   "source": [
    "##Matrice de confusion\n",
    "from sklearn.metrics import confusion_matrix\n",
    "\n",
    "cm=confusion_matrix(y_test ,y_pred)\n",
    "cm\n",
    "\n",
    "#Evalvuation de l'accuracy\n",
    "acc=(cm[0][0]+ cm[1][1])/len(y_test)\n",
    "acc"
   ]
  }
 ],
 "metadata": {
  "kernelspec": {
   "display_name": "base",
   "language": "python",
   "name": "python3"
  },
  "language_info": {
   "codemirror_mode": {
    "name": "ipython",
    "version": 3
   },
   "file_extension": ".py",
   "mimetype": "text/x-python",
   "name": "python",
   "nbconvert_exporter": "python",
   "pygments_lexer": "ipython3",
   "version": "3.11.4"
  }
 },
 "nbformat": 4,
 "nbformat_minor": 2
}
